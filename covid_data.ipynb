{
 "cells": [
  {
   "cell_type": "code",
   "execution_count": 1,
   "metadata": {},
   "outputs": [],
   "source": [
    "from requests import get\n",
    "import datetime\n",
    "import matplotlib\n",
    "import matplotlib.pyplot as plt\n",
    "%matplotlib inline\n",
    "import seaborn as sns\n",
    "import numpy as np\n",
    "import ipywidgets as widgets\n",
    "import math"
   ]
  },
  {
   "cell_type": "code",
   "execution_count": 6,
   "metadata": {},
   "outputs": [],
   "source": [
    "def getQuery(query):\n",
    "    return(get(query, timeout=20).json()['data'])\n",
    "\n",
    "def buildQuery(api_address, filters):\n",
    "    assert (len(filters) != 0)\n",
    "    F = {'areaType': None,\n",
    "         'areaName': None,\n",
    "         'date': None,\n",
    "         'newCases': None}\n",
    "    F.update(filters)\n",
    "    filter_string = \"\"\n",
    "    structure_string = '\"date\": \"date\",'\n",
    "    for f, v in F.items():\n",
    "        if v is not None:\n",
    "            filter_string += '%s=%s;' % (f, v)\n",
    "        else:\n",
    "            if f == 'newCases' and F['areaType'] in ['utla', 'ltla', 'region']:\n",
    "                structure_string += '\"newCases\": \"newCasesBySpecimenDate\",'\n",
    "            elif f == \"newCases\":\n",
    "                structure_string += '\"newCases\": \"newCasesByPublishDate\",'\n",
    "            else:\n",
    "                structure_string += '\"%s\": \"%s\",' % (f, f)\n",
    "    query = \"%sfilters=%s&structure={%s}\" % (api_address,\n",
    "                                            filter_string[:-1],\n",
    "                                            structure_string[:-1])\n",
    "    return (query)\n",
    "\n",
    "def cleanData(results):\n",
    "    dates = []\n",
    "    counts = []\n",
    "    for r in results:\n",
    "        date = r['date']\n",
    "        d = datetime.datetime.strptime(date, '%Y-%m-%d')\n",
    "        dates.append(d)\n",
    "        counts.append(r['newCases'])\n",
    "\n",
    "    sw3_counts = [np.median(counts[x:x+3]) for x in np.arange(len(counts))]\n",
    "    sw7_counts = [np.median(counts[x:x+7]) for x in np.arange(len(counts))]\n",
    "    return (dates, counts, sw3_counts, sw7_counts)\n",
    "\n",
    "\n",
    "def plotData(clean, area_name, area_type):\n",
    "    dates, counts, sw3_counts, sw7_counts = clean\n",
    "    f = plt.figure(figsize=(20, 5))\n",
    "    a = f.add_subplot(111)\n",
    "    a.bar(dates, counts, color='darkblue')\n",
    "    if area_type in ['utla', 'ltla', 'region']:\n",
    "        t ='Specimen'\n",
    "    else:\n",
    "        t = \"Published\"\n",
    "    a.set_title(\"Positive Tests by %s Date, %s\" % (t, area_name), fontsize=18)\n",
    "    a.plot(dates, sw3_counts, color='#fe7541B3', lw=6)\n",
    "    a.plot(dates, sw7_counts, color='#41fe47B3', lw=6)\n",
    "    inter = math.ceil(len(dates) / 50)\n",
    "    a.set_xticks([dates[x] for x in np.arange(0, len(dates), inter)])\n",
    "    a.set_xticklabels([dates[x].date() for x in np.arange(0, len(dates), inter)], rotation='vertical', fontsize=10)\n",
    "    a.set_xlim(min(dates), max(dates))\n",
    "    a.set_ylim(0, max(counts))\n",
    "    sns.despine()\n",
    "    handles = [matplotlib.patches.Patch(color='darkblue'),\n",
    "               matplotlib.patches.Patch(color='#fe7541B3'),\n",
    "               matplotlib.patches.Patch(color='#41fe47B3')]\n",
    "    f.legend(handles=handles, labels=['Daily', '3 day median', '7 day median'], fontsize=18)\n",
    "    f.tight_layout(pad=1.3)\n",
    "    return (f)\n",
    "\n",
    "def runAll(area_type, area_name):\n",
    "    query = buildQuery(api_address, filters={'areaType': area_type, 'areaName': area_name})\n",
    "    results = getQuery(query)\n",
    "    clean = cleanData(results)\n",
    "    f = plotData(clean, area_name, area_type)\n",
    "\n",
    "def getList(typ):\n",
    "    datenow = datetime.date.strftime(datetime.date.today(), \"%Y-%m-%d\")\n",
    "    query = buildQuery(api_address, {'areaType': typ, 'date': datenow})\n",
    "    results = getQuery(query)\n",
    "    return ([x['areaName'] for x in results])\n",
    "\n",
    "def changeArea(val):\n",
    "    selected_area.options = getList(val['new'])"
   ]
  },
  {
   "cell_type": "code",
   "execution_count": 7,
   "metadata": {},
   "outputs": [],
   "source": [
    "area_types = {'District': 'ltla',\n",
    "              'County': 'utla',\n",
    "              'Region': 'region',\n",
    "              'Country': 'nation',\n",
    "              'Total':'overview'}\n",
    "api_address = 'https://api.coronavirus.data.gov.uk/v1/data?'"
   ]
  },
  {
   "cell_type": "code",
   "execution_count": 8,
   "metadata": {},
   "outputs": [
    {
     "data": {
      "application/vnd.jupyter.widget-view+json": {
       "model_id": "09a1abb43ecb4353955f0a03546cb533",
       "version_major": 2,
       "version_minor": 0
      },
      "text/plain": [
       "interactive(children=(Dropdown(description='Area Type', options={'District': 'ltla', 'County': 'utla', 'Region…"
      ]
     },
     "metadata": {},
     "output_type": "display_data"
    }
   ],
   "source": [
    "areas = widgets.Dropdown(options=area_types, description=\"Area Type\")\n",
    "area_options = getList('ltla')\n",
    "selected_area = widgets.Dropdown(options=area_options, description='Area')\n",
    "areas.observe(changeArea, 'value')\n",
    "widgets.interactive(runAll, area_name=selected_area, area_type=areas)"
   ]
  }
 ],
 "metadata": {
  "kernelspec": {
   "display_name": "Python 3",
   "language": "python",
   "name": "python3"
  },
  "language_info": {
   "codemirror_mode": {
    "name": "ipython",
    "version": 3
   },
   "file_extension": ".py",
   "mimetype": "text/x-python",
   "name": "python",
   "nbconvert_exporter": "python",
   "pygments_lexer": "ipython3",
   "version": "3.6.10"
  }
 },
 "nbformat": 4,
 "nbformat_minor": 4
}
